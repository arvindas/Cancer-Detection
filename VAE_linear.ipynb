{
  "nbformat": 4,
  "nbformat_minor": 0,
  "metadata": {
    "colab": {
      "name": "VAE.ipynb",
      "provenance": [],
      "collapsed_sections": []
    },
    "kernelspec": {
      "name": "python3",
      "display_name": "Python 3"
    },
    "accelerator": "GPU"
  },
  "cells": [
    {
      "cell_type": "code",
      "metadata": {
        "id": "ZVVcmhS1EkDD",
        "colab_type": "code",
        "outputId": "013aa09c-00e9-4ecd-ee8d-517889b5f8c5",
        "colab": {
          "base_uri": "https://localhost:8080/",
          "height": 122
        }
      },
      "source": [
        "from google.colab import drive\n",
        "drive.mount('/content/drive')"
      ],
      "execution_count": 0,
      "outputs": [
        {
          "output_type": "stream",
          "text": [
            "Go to this URL in a browser: https://accounts.google.com/o/oauth2/auth?client_id=947318989803-6bn6qk8qdgf4n4g3pfee6491hc0brc4i.apps.googleusercontent.com&redirect_uri=urn%3Aietf%3Awg%3Aoauth%3A2.0%3Aoob&scope=email%20https%3A%2F%2Fwww.googleapis.com%2Fauth%2Fdocs.test%20https%3A%2F%2Fwww.googleapis.com%2Fauth%2Fdrive%20https%3A%2F%2Fwww.googleapis.com%2Fauth%2Fdrive.photos.readonly%20https%3A%2F%2Fwww.googleapis.com%2Fauth%2Fpeopleapi.readonly&response_type=code\n",
            "\n",
            "Enter your authorization code:\n",
            "··········\n",
            "Mounted at /content/drive\n"
          ],
          "name": "stdout"
        }
      ]
    },
    {
      "cell_type": "code",
      "metadata": {
        "id": "HFQkni0GE9oQ",
        "colab_type": "code",
        "colab": {}
      },
      "source": [
        "import sys\n",
        "sys.path.insert(0, '/content/drive/My Drive/VAE/')\n",
        "sys.path.append('/content/drive/My Drive/VAE')\n",
        "sys.path.append('/content/drive/Cancer-Detection/data/train/benign/')"
      ],
      "execution_count": 0,
      "outputs": []
    },
    {
      "cell_type": "code",
      "metadata": {
        "id": "fzDEZJFsKlYt",
        "colab_type": "code",
        "outputId": "23f76643-111c-473a-8552-62895bc5cdf6",
        "colab": {
          "base_uri": "https://localhost:8080/",
          "height": 102
        }
      },
      "source": [
        "! git clone --recursive https://github.com/shreyavarshini/Cancer-Detection.git"
      ],
      "execution_count": 0,
      "outputs": [
        {
          "output_type": "stream",
          "text": [
            "Cloning into 'Cancer-Detection'...\n",
            "remote: Enumerating objects: 18689, done.\u001b[K\n",
            "remote: Total 18689 (delta 0), reused 0 (delta 0), pack-reused 18689\u001b[K\n",
            "Receiving objects: 100% (18689/18689), 318.63 MiB | 39.24 MiB/s, done.\n",
            "Checking out files: 100% (18677/18677), done.\n"
          ],
          "name": "stdout"
        }
      ]
    },
    {
      "cell_type": "code",
      "metadata": {
        "id": "3f9TYHoRU4u6",
        "colab_type": "code",
        "colab": {}
      },
      "source": [
        "# imports and initializations\n",
        "from __future__ import print_function\n",
        "import argparse\n",
        "import torch\n",
        "import torch.utils.data\n",
        "from torch import nn, optim\n",
        "from torch.nn import functional as F\n",
        "from torchvision import datasets, transforms, transforms, utils\n",
        "from torchvision.utils import save_image\n",
        "from torch.utils.data import Dataset, DataLoader\n",
        "import matplotlib.pyplot as plt"
      ],
      "execution_count": 0,
      "outputs": []
    },
    {
      "cell_type": "code",
      "metadata": {
        "id": "bKW7TOCicfrM",
        "colab_type": "code",
        "colab": {}
      },
      "source": [
        "! cd '/content/Cancer-Detection/data/train/benign/'"
      ],
      "execution_count": 0,
      "outputs": []
    },
    {
      "cell_type": "code",
      "metadata": {
        "id": "QdFEC4zCENrA",
        "colab_type": "code",
        "colab": {}
      },
      "source": [
        "# Arguments for the model\n",
        "class Args:\n",
        "  batch_size = 20\n",
        "  epochs = 10\n",
        "  no_cuda = False\n",
        "  seed = 1\n",
        "  log_interval = 10\n",
        "  lr = 1e-3\n",
        "\n",
        "args=Args()\n",
        "args.cuda = not args.no_cuda and torch.cuda.is_available()\n",
        "torch.manual_seed(args.seed)\n",
        "device = torch.device(\"cuda\" if args.cuda else \"cpu\")"
      ],
      "execution_count": 0,
      "outputs": []
    },
    {
      "cell_type": "code",
      "metadata": {
        "id": "4qXazX4SVDoa",
        "colab_type": "code",
        "colab": {}
      },
      "source": [
        "# Dataset loader\n",
        "def load_dataset( folder ):\n",
        "    data_path = '/content/Cancer-Detection/data/' + folder\n",
        "    transform = transforms.Compose([\n",
        "    transforms.Resize(( 128, 128 ) ),\n",
        "    transforms.ToTensor()\n",
        "    ])\n",
        "    dataset = datasets.ImageFolder( root=data_path, transform=transform )\n",
        "\n",
        "    loader = torch.utils.data.DataLoader(\n",
        "        dataset,\n",
        "        batch_size=20,\n",
        "        num_workers=3,\n",
        "        shuffle=True\n",
        "    )\n",
        "    return loader\n",
        "\n",
        "train_loader = load_dataset( 'train' )\n",
        "test_loader = load_dataset( 'test' )"
      ],
      "execution_count": 0,
      "outputs": []
    },
    {
      "cell_type": "code",
      "metadata": {
        "id": "lK1ugsdZtZ5M",
        "colab_type": "code",
        "colab": {}
      },
      "source": [
        "class Encoder(nn.Module):\n",
        "    def __init__(self, input_dim, hidden_dim, z_dim):\n",
        "        '''\n",
        "        Args:\n",
        "            input_dim: A integer indicating the size of input\n",
        "            hidden_dim: A integer indicating the size of hidden dimension\n",
        "            z_dim: A integer indicating the latent dimension\n",
        "        '''\n",
        "        super().__init__()\n",
        "\n",
        "        self.linear = nn.Linear(input_dim, hidden_dim)\n",
        "        self.mu = nn.Linear(hidden_dim, z_dim)\n",
        "        self.var = nn.Linear(hidden_dim, z_dim)\n",
        "\n",
        "    def forward(self, x):\n",
        "        # x is of shape [batch_size, input_dim]\n",
        "\n",
        "        hidden = F.relu(self.linear(x))\n",
        "        # hidden is of shape [batch_size, hidden_dim]\n",
        "        z_mu = self.mu(hidden)\n",
        "        # z_mu is of shape [batch_size, latent_dim]\n",
        "        z_var = self.var(hidden)\n",
        "        # z_var is of shape [batch_size, latent_dim]\n",
        "\n",
        "        return z_mu, z_var"
      ],
      "execution_count": 0,
      "outputs": []
    },
    {
      "cell_type": "code",
      "metadata": {
        "id": "_CilsDiItbrb",
        "colab_type": "code",
        "colab": {}
      },
      "source": [
        "class Decoder(nn.Module):\n",
        "    def __init__(self, z_dim, hidden_dim, output_dim):\n",
        "        '''\n",
        "        Args:\n",
        "            z_dim: A integer indicating the latent size.\n",
        "            hidden_dim: A integer indicating the size of hidden dimension.\n",
        "            output_dim: A integer indicating the output dimension\n",
        "        '''\n",
        "        super().__init__()\n",
        "\n",
        "        self.linear = nn.Linear(z_dim, hidden_dim)\n",
        "        self.out = nn.Linear(hidden_dim, output_dim)\n",
        "\n",
        "    def forward(self, x):\n",
        "        # x is of shape [batch_size, latent_dim]\n",
        "\n",
        "        hidden = F.relu(self.linear(x))\n",
        "        # hidden is of shape [batch_size, hidden_dim]\n",
        "\n",
        "        predicted = torch.sigmoid(self.out(hidden))\n",
        "        # predicted is of shape [batch_size, output_dim]\n",
        "        return predicted\n"
      ],
      "execution_count": 0,
      "outputs": []
    },
    {
      "cell_type": "code",
      "metadata": {
        "id": "7qVcj5tmiScZ",
        "colab_type": "code",
        "colab": {}
      },
      "source": [
        "class VAE(nn.Module):\n",
        "    def __init__(self, enc, dec):\n",
        "        ''' This the VAE, which takes a encoder and decoder.\n",
        "        '''\n",
        "        super().__init__()\n",
        "\n",
        "        self.encode = enc\n",
        "        self.decode = dec\n",
        "\n",
        "    def forward(self, x):\n",
        "        # encode\n",
        "        z_mu, z_var = self.encode(x)\n",
        "\n",
        "        # sample from the distribution having latent parameters z_mu, z_var\n",
        "        # reparameterize\n",
        "        std = torch.exp(z_var / 2)\n",
        "        eps = torch.randn_like(std)\n",
        "        x_sample = eps.mul(std).add_(z_mu)\n",
        "\n",
        "        # decode\n",
        "        predicted = self.decode(x_sample)\n",
        "        return predicted, z_mu, z_var"
      ],
      "execution_count": 0,
      "outputs": []
    },
    {
      "cell_type": "code",
      "metadata": {
        "id": "m01lXDpiuTAw",
        "colab_type": "code",
        "colab": {}
      },
      "source": [
        "INPUT_DIM = 49152\n",
        "HIDDEN_DIM = 400\n",
        "LATENT_DIM = 50\n",
        "\n",
        "# encoder\n",
        "encoder = Encoder(INPUT_DIM, HIDDEN_DIM, LATENT_DIM)\n",
        "\n",
        "# decoder\n",
        "decoder = Decoder(LATENT_DIM, HIDDEN_DIM, INPUT_DIM)\n",
        "\n",
        "# vae\n",
        "model = VAE(encoder, decoder).to(device)\n",
        "\n",
        "# optimizer\n",
        "optimizer = optim.Adam(model.parameters(), lr=args.lr)"
      ],
      "execution_count": 0,
      "outputs": []
    },
    {
      "cell_type": "code",
      "metadata": {
        "id": "73qiGwhKETkL",
        "colab_type": "code",
        "outputId": "59a48c71-c0ed-4b33-a924-e80a37e322c2",
        "colab": {
          "base_uri": "https://localhost:8080/",
          "height": 1000
        }
      },
      "source": [
        "# Reconstruction + KL divergence losses summed over all elements and batch\n",
        "def loss_function(recon_x, x, mu, logvar):\n",
        "    # reconstruction loss\n",
        "    BCE = F.binary_cross_entropy(recon_x, x.view(-1, 49152), reduction='sum')\n",
        "    # kl divergence loss = 0.5 * sum(1 + log(sigma^2) - mu^2 - sigma^2)\n",
        "    KLD = -0.5 * torch.sum(1 + logvar - mu.pow(2) - logvar.exp())\n",
        "    return BCE + KLD\n",
        "\n",
        "def train(epoch):\n",
        "    model.train()\n",
        "    train_loss = 0\n",
        "    for batch_idx, (data, _) in enumerate(train_loader):\n",
        "        data = data.view(-1, 3 * 128 * 128)\n",
        "        data = data.to(device)\n",
        "\n",
        "        # update the gradients to zero\n",
        "        optimizer.zero_grad()\n",
        "\n",
        "        # forward pass\n",
        "        recon_batch, mu, logvar = model(data)\n",
        "\n",
        "        # reconstruction loss + kl divergence loss\n",
        "        loss = loss_function(recon_batch, data, mu, logvar)\n",
        "        \n",
        "         # backward pass\n",
        "        loss.backward()\n",
        "        train_loss += loss.item()\n",
        "\n",
        "        # update the weights\n",
        "        optimizer.step()\n",
        "\n",
        "        if batch_idx % args.log_interval == 0:\n",
        "            print('Train Epoch: {} [{}/{} ({:.0f}%)]\\tLoss: {:.6f}'.format(\n",
        "                epoch, batch_idx * len(data), len(train_loader.dataset),\n",
        "                100. * batch_idx / len(train_loader),\n",
        "                loss.item() / len(data)))\n",
        "\n",
        "    print('====> Epoch: {} Average loss: {:.4f}'.format(\n",
        "          epoch, train_loss / len(train_loader.dataset)))\n",
        "\n",
        "\n",
        "def test(epoch):\n",
        "    # set the evaluation mode\n",
        "    model.eval()\n",
        "\n",
        "    # test loss for the data\n",
        "    test_loss = 0\n",
        "\n",
        "    with torch.no_grad():\n",
        "        for i, (data, _) in enumerate(test_loader):\n",
        "            data = data.view(-1, 3 * 128 * 128)\n",
        "            data = data.to(device)\n",
        "\n",
        "            # forward pass\n",
        "            recon_batch, mu, logvar = model(data)\n",
        "\n",
        "            # total loss\n",
        "            test_loss += loss_function(recon_batch, data, mu, logvar).item()\n",
        "\n",
        "    test_loss /= len(test_loader.dataset)\n",
        "    print('====> Test set loss: {:.4f}'.format(test_loss))\n",
        "\n",
        "if __name__ == \"__main__\":\n",
        "    for epoch in range(1, args.epochs + 1):\n",
        "        train(epoch)\n",
        "        test(epoch)\n",
        "        with torch.no_grad():\n",
        "            sample = torch.randn(1, LATENT_DIM).to(device)\n",
        "            sample = model.decode(sample).cpu()\n",
        "            img = sample.view( 128, 128, 3 ).data\n",
        "            plt.figure()\n",
        "            plt.imshow(img )\n",
        "            plt.show()"
      ],
      "execution_count": 0,
      "outputs": [
        {
          "output_type": "stream",
          "text": [
            "Train Epoch: 1 [0/12775 (0%)]\tLoss: 34446.040625\n",
            "Train Epoch: 1 [200/12775 (2%)]\tLoss: 33859.806250\n",
            "Train Epoch: 1 [400/12775 (3%)]\tLoss: 31693.137500\n",
            "Train Epoch: 1 [600/12775 (5%)]\tLoss: 30747.237500\n",
            "Train Epoch: 1 [800/12775 (6%)]\tLoss: 31055.387500\n",
            "Train Epoch: 1 [1000/12775 (8%)]\tLoss: 29031.612500\n",
            "Train Epoch: 1 [1200/12775 (9%)]\tLoss: 29313.381250\n",
            "Train Epoch: 1 [1400/12775 (11%)]\tLoss: 29872.384375\n",
            "Train Epoch: 1 [1600/12775 (13%)]\tLoss: 28680.246875\n",
            "Train Epoch: 1 [1800/12775 (14%)]\tLoss: 29120.087500\n",
            "Train Epoch: 1 [2000/12775 (16%)]\tLoss: 28872.481250\n",
            "Train Epoch: 1 [2200/12775 (17%)]\tLoss: 28611.956250\n",
            "Train Epoch: 1 [2400/12775 (19%)]\tLoss: 28834.859375\n",
            "Train Epoch: 1 [2600/12775 (20%)]\tLoss: 28342.381250\n",
            "Train Epoch: 1 [2800/12775 (22%)]\tLoss: 27675.993750\n",
            "Train Epoch: 1 [3000/12775 (23%)]\tLoss: 27702.850000\n",
            "Train Epoch: 1 [3200/12775 (25%)]\tLoss: 27206.903125\n",
            "Train Epoch: 1 [3400/12775 (27%)]\tLoss: 28002.878125\n",
            "Train Epoch: 1 [3600/12775 (28%)]\tLoss: 27640.468750\n",
            "Train Epoch: 1 [3800/12775 (30%)]\tLoss: 27621.665625\n",
            "Train Epoch: 1 [4000/12775 (31%)]\tLoss: 27726.509375\n",
            "Train Epoch: 1 [4200/12775 (33%)]\tLoss: 27294.009375\n",
            "Train Epoch: 1 [4400/12775 (34%)]\tLoss: 28373.990625\n",
            "Train Epoch: 1 [4600/12775 (36%)]\tLoss: 27861.428125\n",
            "Train Epoch: 1 [4800/12775 (38%)]\tLoss: 27331.640625\n",
            "Train Epoch: 1 [5000/12775 (39%)]\tLoss: 27498.756250\n",
            "Train Epoch: 1 [5200/12775 (41%)]\tLoss: 27488.243750\n",
            "Train Epoch: 1 [5400/12775 (42%)]\tLoss: 27458.531250\n",
            "Train Epoch: 1 [5600/12775 (44%)]\tLoss: 27181.221875\n",
            "Train Epoch: 1 [5800/12775 (45%)]\tLoss: 26755.940625\n",
            "Train Epoch: 1 [6000/12775 (47%)]\tLoss: 26887.840625\n",
            "Train Epoch: 1 [6200/12775 (49%)]\tLoss: 26970.581250\n",
            "Train Epoch: 1 [6400/12775 (50%)]\tLoss: 27098.840625\n",
            "Train Epoch: 1 [6600/12775 (52%)]\tLoss: 26586.159375\n",
            "Train Epoch: 1 [6800/12775 (53%)]\tLoss: 27124.703125\n",
            "Train Epoch: 1 [7000/12775 (55%)]\tLoss: 27080.337500\n",
            "Train Epoch: 1 [7200/12775 (56%)]\tLoss: 26837.256250\n",
            "Train Epoch: 1 [7400/12775 (58%)]\tLoss: 27520.375000\n",
            "Train Epoch: 1 [7600/12775 (59%)]\tLoss: 27078.393750\n",
            "Train Epoch: 1 [7800/12775 (61%)]\tLoss: 26922.943750\n",
            "Train Epoch: 1 [8000/12775 (63%)]\tLoss: 26826.290625\n",
            "Train Epoch: 1 [8200/12775 (64%)]\tLoss: 26565.681250\n",
            "Train Epoch: 1 [8400/12775 (66%)]\tLoss: 26899.350000\n",
            "Train Epoch: 1 [8600/12775 (67%)]\tLoss: 27021.468750\n",
            "Train Epoch: 1 [8800/12775 (69%)]\tLoss: 26891.984375\n",
            "Train Epoch: 1 [9000/12775 (70%)]\tLoss: 26707.518750\n",
            "Train Epoch: 1 [9200/12775 (72%)]\tLoss: 25889.110938\n",
            "Train Epoch: 1 [9400/12775 (74%)]\tLoss: 26456.421875\n",
            "Train Epoch: 1 [9600/12775 (75%)]\tLoss: 26338.153125\n",
            "Train Epoch: 1 [9800/12775 (77%)]\tLoss: 26084.185937\n",
            "Train Epoch: 1 [10000/12775 (78%)]\tLoss: 27200.328125\n",
            "Train Epoch: 1 [10200/12775 (80%)]\tLoss: 26352.325000\n",
            "Train Epoch: 1 [10400/12775 (81%)]\tLoss: 26981.281250\n",
            "Train Epoch: 1 [10600/12775 (83%)]\tLoss: 26736.875000\n",
            "Train Epoch: 1 [10800/12775 (85%)]\tLoss: 26595.165625\n",
            "Train Epoch: 1 [11000/12775 (86%)]\tLoss: 25655.896875\n",
            "Train Epoch: 1 [11200/12775 (88%)]\tLoss: 26415.262500\n",
            "Train Epoch: 1 [11400/12775 (89%)]\tLoss: 26431.021875\n",
            "Train Epoch: 1 [11600/12775 (91%)]\tLoss: 26413.846875\n",
            "Train Epoch: 1 [11800/12775 (92%)]\tLoss: 26661.196875\n",
            "Train Epoch: 1 [12000/12775 (94%)]\tLoss: 26640.018750\n",
            "Train Epoch: 1 [12200/12775 (95%)]\tLoss: 26486.850000\n",
            "Train Epoch: 1 [12400/12775 (97%)]\tLoss: 26145.562500\n",
            "Train Epoch: 1 [12600/12775 (99%)]\tLoss: 26323.331250\n",
            "====> Epoch: 1 Average loss: 27737.5844\n",
            "====> Test set loss: 26583.0592\n",
            "torch.Size([1, 49152])\n"
          ],
          "name": "stdout"
        },
        {
          "output_type": "display_data",
          "data": {
            "image/png": "[encoded data removed]",
            "text/plain": [
              "<Figure size 432x288 with 1 Axes>"
            ]
          },
          "metadata": {
            "tags": []
          }
        },
        {
          "output_type": "stream",
          "text": [
            "Train Epoch: 2 [0/12775 (0%)]\tLoss: 26179.537500\n",
            "Train Epoch: 2 [200/12775 (2%)]\tLoss: 26918.696875\n",
            "Train Epoch: 2 [400/12775 (3%)]\tLoss: 26170.646875\n",
            "Train Epoch: 2 [600/12775 (5%)]\tLoss: 26069.950000\n",
            "Train Epoch: 2 [800/12775 (6%)]\tLoss: 26406.103125\n",
            "Train Epoch: 2 [1000/12775 (8%)]\tLoss: 26604.890625\n",
            "Train Epoch: 2 [1200/12775 (9%)]\tLoss: 26301.200000\n",
            "Train Epoch: 2 [1400/12775 (11%)]\tLoss: 26456.493750\n"
          ],
          "name": "stdout"
        },
        {
          "output_type": "error",
          "ename": "KeyboardInterrupt",
          "evalue": "ignored",
          "traceback": [
            "\u001b[0;31m---------------------------------------------------------------------------\u001b[0m",
            "\u001b[0;31mKeyboardInterrupt\u001b[0m                         Traceback (most recent call last)",
            "\u001b[0;32m<ipython-input-88-d6cec349603b>\u001b[0m in \u001b[0;36m<module>\u001b[0;34m()\u001b[0m\n\u001b[1;32m     62\u001b[0m \u001b[0;32mif\u001b[0m \u001b[0m__name__\u001b[0m \u001b[0;34m==\u001b[0m \u001b[0;34m\"__main__\"\u001b[0m\u001b[0;34m:\u001b[0m\u001b[0;34m\u001b[0m\u001b[0;34m\u001b[0m\u001b[0m\n\u001b[1;32m     63\u001b[0m     \u001b[0;32mfor\u001b[0m \u001b[0mepoch\u001b[0m \u001b[0;32min\u001b[0m \u001b[0mrange\u001b[0m\u001b[0;34m(\u001b[0m\u001b[0;36m1\u001b[0m\u001b[0;34m,\u001b[0m \u001b[0margs\u001b[0m\u001b[0;34m.\u001b[0m\u001b[0mepochs\u001b[0m \u001b[0;34m+\u001b[0m \u001b[0;36m1\u001b[0m\u001b[0;34m)\u001b[0m\u001b[0;34m:\u001b[0m\u001b[0;34m\u001b[0m\u001b[0;34m\u001b[0m\u001b[0m\n\u001b[0;32m---> 64\u001b[0;31m         \u001b[0mtrain\u001b[0m\u001b[0;34m(\u001b[0m\u001b[0mepoch\u001b[0m\u001b[0;34m)\u001b[0m\u001b[0;34m\u001b[0m\u001b[0;34m\u001b[0m\u001b[0m\n\u001b[0m\u001b[1;32m     65\u001b[0m         \u001b[0mtest\u001b[0m\u001b[0;34m(\u001b[0m\u001b[0mepoch\u001b[0m\u001b[0;34m)\u001b[0m\u001b[0;34m\u001b[0m\u001b[0;34m\u001b[0m\u001b[0m\n\u001b[1;32m     66\u001b[0m         \u001b[0;32mwith\u001b[0m \u001b[0mtorch\u001b[0m\u001b[0;34m.\u001b[0m\u001b[0mno_grad\u001b[0m\u001b[0;34m(\u001b[0m\u001b[0;34m)\u001b[0m\u001b[0;34m:\u001b[0m\u001b[0;34m\u001b[0m\u001b[0;34m\u001b[0m\u001b[0m\n",
            "\u001b[0;32m<ipython-input-88-d6cec349603b>\u001b[0m in \u001b[0;36mtrain\u001b[0;34m(epoch)\u001b[0m\n\u001b[1;32m     33\u001b[0m                 \u001b[0mepoch\u001b[0m\u001b[0;34m,\u001b[0m \u001b[0mbatch_idx\u001b[0m \u001b[0;34m*\u001b[0m \u001b[0mlen\u001b[0m\u001b[0;34m(\u001b[0m\u001b[0mdata\u001b[0m\u001b[0;34m)\u001b[0m\u001b[0;34m,\u001b[0m \u001b[0mlen\u001b[0m\u001b[0;34m(\u001b[0m\u001b[0mtrain_loader\u001b[0m\u001b[0;34m.\u001b[0m\u001b[0mdataset\u001b[0m\u001b[0;34m)\u001b[0m\u001b[0;34m,\u001b[0m\u001b[0;34m\u001b[0m\u001b[0;34m\u001b[0m\u001b[0m\n\u001b[1;32m     34\u001b[0m                 \u001b[0;36m100.\u001b[0m \u001b[0;34m*\u001b[0m \u001b[0mbatch_idx\u001b[0m \u001b[0;34m/\u001b[0m \u001b[0mlen\u001b[0m\u001b[0;34m(\u001b[0m\u001b[0mtrain_loader\u001b[0m\u001b[0;34m)\u001b[0m\u001b[0;34m,\u001b[0m\u001b[0;34m\u001b[0m\u001b[0;34m\u001b[0m\u001b[0m\n\u001b[0;32m---> 35\u001b[0;31m                 loss.item() / len(data)))\n\u001b[0m\u001b[1;32m     36\u001b[0m \u001b[0;34m\u001b[0m\u001b[0m\n\u001b[1;32m     37\u001b[0m     print('====> Epoch: {} Average loss: {:.4f}'.format(\n",
            "\u001b[0;31mKeyboardInterrupt\u001b[0m: "
          ]
        }
      ]
    }
  ]
}